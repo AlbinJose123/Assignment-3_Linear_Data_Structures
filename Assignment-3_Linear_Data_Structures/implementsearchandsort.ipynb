{
 "cells": [
  {
   "cell_type": "code",
   "execution_count": 6,
   "metadata": {},
   "outputs": [
    {
     "name": "stdout",
     "output_type": "stream",
     "text": [
      "Element 10 is present at index 0\n"
     ]
    }
   ],
   "source": [
    "#     # 1.Implement Binary Search\n",
    "def binary_search(arr, target):\n",
    "    pass\n",
    "    left = 0\n",
    "    right = len(arr) - 1\n",
    "\n",
    "    while left <= right:\n",
    "        mid = (left + right) // 2\n",
    "\n",
    "        if arr[mid] == target:\n",
    "            return mid\n",
    "\n",
    "        if arr[mid] < target:\n",
    "            left = mid + 1\n",
    "        else:\n",
    "            right = mid - 1\n",
    "\n",
    "    return -1  \n",
    "\n",
    "\n",
    "arr = input(\"Enter a sorted list of numbers (space-separated): \").split(',')\n",
    "arr = [int(num) for num in arr]\n",
    "target = int(input(\"Enter the target number: \"))\n",
    "\n",
    "result = binary_search(arr, target)\n",
    "\n",
    "# Print the result\n",
    "if result != -1:\n",
    "    print(f\"Element {target} is present at index {result}\")\n",
    "else:\n",
    "    print(f\"Element {target} is not found in the list\")\n"
   ]
  },
  {
   "attachments": {},
   "cell_type": "markdown",
   "metadata": {},
   "source": []
  },
  {
   "attachments": {},
   "cell_type": "markdown",
   "metadata": {},
   "source": []
  },
  {
   "cell_type": "code",
   "execution_count": 8,
   "metadata": {},
   "outputs": [
    {
     "name": "stdout",
     "output_type": "stream",
     "text": [
      "Sorted array: [10, 20, 30]\n"
     ]
    }
   ],
   "source": [
    " #2.Implement Merge Sort\n",
    "\n",
    "def merge_sort(arr):\n",
    "    if len(arr) <= 1:\n",
    "        return arr\n",
    "\n",
    "    mid = len(arr) // 2\n",
    "    left = arr[:mid]\n",
    "    right = arr[mid:]\n",
    "\n",
    "    left = merge_sort(left)\n",
    "    right = merge_sort(right)\n",
    "\n",
    "    return merge(left, right)\n",
    "\n",
    "def merge(left, right):\n",
    "    merged = []\n",
    "    i = 0\n",
    "    j = 0\n",
    "\n",
    "    while i < len(left) and j < len(right):\n",
    "        if left[i] < right[j]:\n",
    "            merged.append(left[i])\n",
    "            i += 1\n",
    "        else:\n",
    "            merged.append(right[j])\n",
    "            j += 1\n",
    "\n",
    "    while i < len(left):\n",
    "        merged.append(left[i])\n",
    "        i += 1\n",
    "\n",
    "    while j < len(right):\n",
    "        merged.append(right[j])\n",
    "        j += 1\n",
    "\n",
    "    return merged\n",
    "\n",
    "arr = input(\"Enter a list of numbers (space-separated): \").split(',')\n",
    "arr = [int(num) for num in arr]\n",
    "\n",
    "sorted_arr = merge_sort(arr)\n",
    "\n",
    "print(\"Sorted array:\", sorted_arr)"
   ]
  },
  {
   "attachments": {},
   "cell_type": "markdown",
   "metadata": {},
   "source": []
  },
  {
   "attachments": {},
   "cell_type": "markdown",
   "metadata": {},
   "source": []
  },
  {
   "cell_type": "code",
   "execution_count": 10,
   "metadata": {},
   "outputs": [
    {
     "name": "stdout",
     "output_type": "stream",
     "text": [
      "Sorted array: [10, 20, 40]\n"
     ]
    }
   ],
   "source": [
    "# 3.Implement Quick Sort\n",
    "\n",
    "def quick_sort(arr):\n",
    "    if len(arr) <= 1:\n",
    "        return arr\n",
    "\n",
    "    pivot = arr[len(arr) // 2]\n",
    "    left = [x for x in arr if x < pivot]\n",
    "    equal = [x for x in arr if x == pivot]\n",
    "    right = [x for x in arr if x > pivot]\n",
    "\n",
    "    return quick_sort(left) + equal + quick_sort(right)\n",
    "\n",
    "arr = input(\"Enter a list of numbers (space-separated): \").split(',')\n",
    "arr = [int(num) for num in arr]\n",
    "\n",
    "sorted_arr = quick_sort(arr)\n",
    "\n",
    "print(\"Sorted array:\", sorted_arr)"
   ]
  },
  {
   "attachments": {},
   "cell_type": "markdown",
   "metadata": {},
   "source": []
  },
  {
   "attachments": {},
   "cell_type": "markdown",
   "metadata": {},
   "source": []
  },
  {
   "cell_type": "code",
   "execution_count": 11,
   "metadata": {},
   "outputs": [
    {
     "name": "stdout",
     "output_type": "stream",
     "text": [
      "Sorted array: [5, 10, 20, 30]\n"
     ]
    }
   ],
   "source": [
    "# 4.Implement Insertion Sort\n",
    "\n",
    "def insertion_sort(arr):\n",
    "    for i in range(1, len(arr)):\n",
    "        key = arr[i]\n",
    "        j = i - 1\n",
    "\n",
    "        while j >= 0 and arr[j] > key:\n",
    "            arr[j + 1] = arr[j]\n",
    "            j -= 1\n",
    "\n",
    "        arr[j + 1] = key\n",
    "\n",
    "    return arr\n",
    "\n",
    "arr = input(\"Enter a list of numbers (space-separated): \").split(',')\n",
    "arr = [int(num) for num in arr]\n",
    "\n",
    "sorted_arr = insertion_sort(arr)\n",
    "\n",
    "print(\"Sorted array:\", sorted_arr)"
   ]
  },
  {
   "attachments": {},
   "cell_type": "markdown",
   "metadata": {},
   "source": []
  },
  {
   "attachments": {},
   "cell_type": "markdown",
   "metadata": {},
   "source": []
  },
  {
   "cell_type": "code",
   "execution_count": 12,
   "metadata": {},
   "outputs": [
    {
     "name": "stdout",
     "output_type": "stream",
     "text": [
      "Sorted list of strings:\n",
      " 10\n",
      " 20\n",
      " 50\n",
      "30\n"
     ]
    }
   ],
   "source": [
    "# 5.Write a program to sort list of strings (similar to that of dictionary)\n",
    "\n",
    "\n",
    "strings = input(\"Enter a list of strings (comma-separated): \").split(',')\n",
    "\n",
    "sorted_strings = sorted(strings, key=lambda x: x.lower())\n",
    "\n",
    "print(\"Sorted list of strings:\")\n",
    "for string in sorted_strings:\n",
    "    print(string)"
   ]
  }
 ],
 "metadata": {
  "kernelspec": {
   "display_name": "Python 3",
   "language": "python",
   "name": "python3"
  },
  "language_info": {
   "codemirror_mode": {
    "name": "ipython",
    "version": 3
   },
   "file_extension": ".py",
   "mimetype": "text/x-python",
   "name": "python",
   "nbconvert_exporter": "python",
   "pygments_lexer": "ipython3",
   "version": "3.10.9"
  },
  "orig_nbformat": 4
 },
 "nbformat": 4,
 "nbformat_minor": 2
}
